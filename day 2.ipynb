{
 "cells": [
  {
   "cell_type": "code",
   "execution_count": 1,
   "metadata": {},
   "outputs": [
    {
     "name": "stdout",
     "output_type": "stream",
     "text": [
      "Enter number 1:3.4\n",
      "Enter number 2:5.8\n",
      "9.2\n"
     ]
    }
   ],
   "source": [
    "num1 = float (input(\"Enter number 1:\"))\n",
    "num2 = float (input(\"Enter number 2:\"))\n",
    "print (num1+num2)"
   ]
  },
  {
   "cell_type": "code",
   "execution_count": 3,
   "metadata": {},
   "outputs": [
    {
     "name": "stdout",
     "output_type": "stream",
     "text": [
      "Enter a number between 0 and 10:8\n",
      "Try again , Enter a number between 0 and 10:4\n",
      "Great you got the correct number\n",
      "Your remaining trials= 1\n"
     ]
    }
   ],
   "source": [
    "mynum = 4\n",
    "guess = int(input(\"Enter a number between 0 and 10:\"))\n",
    "counter = 1\n",
    "while guess != mynum and counter < 3:\n",
    "    guess = int(input(\"Try again , Enter a number between 0 and 10:\"))\n",
    "    counter = counter + 1\n",
    "if guess == mynum :\n",
    "    print(\"Great you got the correct number\")\n",
    "else :\n",
    "    print(\"Game over\")\n",
    "print(\"Your remaining trials=\" , 3 - counter)"
   ]
  },
  {
   "cell_type": "code",
   "execution_count": 4,
   "metadata": {},
   "outputs": [
    {
     "name": "stdout",
     "output_type": "stream",
     "text": [
      "python/npython/npython/npython/npython/npython/npython/npython/npython/npython/npython/npython/npython/npython/npython/npython/npython/npython/npython/npython/npython/npython/npython/npython/npython/npython/npython/npython/npython/npython/npython/npython/npython/npython/npython/npython/npython/npython/npython/npython/npython/npython/npython/npython/npython/npython/npython/npython/npython/npython/npython/npython/npython/npython/npython/npython/npython/npython/npython/npython/npython/npython/npython/npython/npython/npython/npython/npython/npython/npython/npython/npython/npython/npython/npython/npython/npython/npython/npython/npython/npython/npython/npython/npython/npython/npython/npython/npython/npython/npython/npython/npython/npython/npython/npython/npython/npython/npython/npython/npython/n\n"
     ]
    }
   ],
   "source": [
    "py=\"python/n\"\n",
    "print(py*100)"
   ]
  },
  {
   "cell_type": "code",
   "execution_count": null,
   "metadata": {},
   "outputs": [],
   "source": []
  }
 ],
 "metadata": {
  "kernelspec": {
   "display_name": "Python 3",
   "language": "python",
   "name": "python3"
  },
  "language_info": {
   "codemirror_mode": {
    "name": "ipython",
    "version": 3
   },
   "file_extension": ".py",
   "mimetype": "text/x-python",
   "name": "python",
   "nbconvert_exporter": "python",
   "pygments_lexer": "ipython3",
   "version": "3.8.5"
  }
 },
 "nbformat": 4,
 "nbformat_minor": 4
}
